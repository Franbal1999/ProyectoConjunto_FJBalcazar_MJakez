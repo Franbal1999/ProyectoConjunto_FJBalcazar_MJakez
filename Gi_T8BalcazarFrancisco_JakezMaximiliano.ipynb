{
 "cells": [
  {
   "cell_type": "markdown",
   "metadata": {},
   "source": [
    "<img style=\"float: left; margin: 30px 15px 15px 15px;\" src=\"https://encrypted-tbn0.gstatic.com/images?q=tbn:ANd9GcTFzQj91sOlkeDFkg5HDbjtR4QJYmLXkfMNig&usqp=CAU\" width=\"400\" height=\"500\" /> \n",
    "    \n",
    "    \n",
    "### <font color='navy'> Simulación matemática. \n",
    "\n",
    "**Nombres:** Francisco Javier Balcazar Orrantia. Maximiliano Jakez Salazar\n",
    "\n",
    "**Fecha:** 14 de noviembre del 2022.\n",
    "\n",
    "**Expediente** : 737642.\n",
    "    \n",
    "**Profesor:** Oscar David Jaramillo Zuluaga.\n",
    "    \n",
    "**Link Github**: Link con el enlace del repositorio del creador del proyecto\n",
    "\n",
    "# Tarea 8: Clase 18"
   ]
  },
  {
   "cell_type": "markdown",
   "metadata": {},
   "source": [
    "## Tarea.\n",
    "> - Consultar tasas de interés reales en algún banco y proyectar un ahorro mensual para que al terminar su carrera tengan $\\$85000$ MXN en su cuenta.\n",
    "> - Hacer esto en un nuevo archivo, llamarlo Gi_T7ApellidoNombre.ipynb y subirlo a canvas. Donde $i=1,2$ es el número del grupo al que pertenece \n",
    "> - Plazo: "
   ]
  },
  {
   "cell_type": "markdown",
   "metadata": {},
   "source": [
    "### Ejercicio 1: (enunciado) Transcribirlo"
   ]
  },
  {
   "cell_type": "markdown",
   "metadata": {},
   "source": [
    "Código de solución estudiante 1"
   ]
  },
  {
   "cell_type": "code",
   "execution_count": 13,
   "metadata": {},
   "outputs": [],
   "source": [
    "# Código de solución estudiante 1\n",
    "# Librería de análisis de datos\n",
    "import pandas as pd\n",
    "# Librería para manipulación de fechas\n",
    "from datetime import date\n",
    "import numpy as np\n",
    "import numpy_financial as npf"
   ]
  },
  {
   "cell_type": "code",
   "execution_count": 20,
   "metadata": {},
   "outputs": [],
   "source": [
    "# Datos para la cuenta de ahorro\n",
    "tasa_interes = 0.105\n",
    "years = 2\n",
    "Abono_year = 12\n",
    "inicial = 68000\n",
    "meta = 85000\n",
    "fecha_inicio = (date(2022,11,14))"
   ]
  },
  {
   "cell_type": "code",
   "execution_count": 21,
   "metadata": {},
   "outputs": [
    {
     "data": {
      "text/plain": [
       "788.3927078693152"
      ]
     },
     "execution_count": 21,
     "metadata": {},
     "output_type": "execute_result"
    }
   ],
   "source": [
    "# Cálculo de abonos mensuales iguales para llegar a la meta de ahorro en el tiempo deseado\n",
    "Abono = -npf.pmt(tasa_interes/Abono_year,years*Abono_year,(meta-inicial))\n",
    "Abono"
   ]
  },
  {
   "cell_type": "code",
   "execution_count": 22,
   "metadata": {},
   "outputs": [
    {
     "data": {
      "text/html": [
       "<div>\n",
       "<style scoped>\n",
       "    .dataframe tbody tr th:only-of-type {\n",
       "        vertical-align: middle;\n",
       "    }\n",
       "\n",
       "    .dataframe tbody tr th {\n",
       "        vertical-align: top;\n",
       "    }\n",
       "\n",
       "    .dataframe thead th {\n",
       "        text-align: right;\n",
       "    }\n",
       "</style>\n",
       "<table border=\"1\" class=\"dataframe\">\n",
       "  <thead>\n",
       "    <tr style=\"text-align: right;\">\n",
       "      <th></th>\n",
       "      <th>Fecha del abono</th>\n",
       "      <th>Abono</th>\n",
       "      <th>Balance</th>\n",
       "    </tr>\n",
       "    <tr>\n",
       "      <th>Periodo</th>\n",
       "      <th></th>\n",
       "      <th></th>\n",
       "      <th></th>\n",
       "    </tr>\n",
       "  </thead>\n",
       "  <tbody>\n",
       "    <tr>\n",
       "      <th>1</th>\n",
       "      <td>2022-11-30</td>\n",
       "      <td>NaN</td>\n",
       "      <td>NaN</td>\n",
       "    </tr>\n",
       "    <tr>\n",
       "      <th>2</th>\n",
       "      <td>2022-12-31</td>\n",
       "      <td>NaN</td>\n",
       "      <td>NaN</td>\n",
       "    </tr>\n",
       "    <tr>\n",
       "      <th>3</th>\n",
       "      <td>2023-01-31</td>\n",
       "      <td>NaN</td>\n",
       "      <td>NaN</td>\n",
       "    </tr>\n",
       "    <tr>\n",
       "      <th>4</th>\n",
       "      <td>2023-02-28</td>\n",
       "      <td>NaN</td>\n",
       "      <td>NaN</td>\n",
       "    </tr>\n",
       "    <tr>\n",
       "      <th>5</th>\n",
       "      <td>2023-03-31</td>\n",
       "      <td>NaN</td>\n",
       "      <td>NaN</td>\n",
       "    </tr>\n",
       "  </tbody>\n",
       "</table>\n",
       "</div>"
      ],
      "text/plain": [
       "        Fecha del abono  Abono  Balance\n",
       "Periodo                                \n",
       "1            2022-11-30    NaN      NaN\n",
       "2            2022-12-31    NaN      NaN\n",
       "3            2023-01-31    NaN      NaN\n",
       "4            2023-02-28    NaN      NaN\n",
       "5            2023-03-31    NaN      NaN"
      ]
     },
     "execution_count": 22,
     "metadata": {},
     "output_type": "execute_result"
    }
   ],
   "source": [
    "# Rango de fechas en la tabla\n",
    "rng = pd.date_range(fecha_inicio, periods=years*Abono_year, freq='M')\n",
    "rng.name = 'Fecha del abono'\n",
    "# Columnas de abonos y extracto de cuenta en las fechas respectivas\n",
    "df = pd.DataFrame(index = rng,columns=['Abono','Balance'],dtype='float')\n",
    "# Para poner el indice con los periodos y no con las fechas\n",
    "df.reset_index(inplace=True)\n",
    "\n",
    "df.index+=1\n",
    "df.index.name='Periodo'\n",
    "df.head()"
   ]
  },
  {
   "cell_type": "code",
   "execution_count": 23,
   "metadata": {},
   "outputs": [
    {
     "data": {
      "text/plain": [
       "-29.66409685446769"
      ]
     },
     "execution_count": 23,
     "metadata": {},
     "output_type": "execute_result"
    }
   ],
   "source": [
    "npf.ppmt(tasa_interes/Abono_year, 1, years * Abono_year, Abono)"
   ]
  },
  {
   "cell_type": "code",
   "execution_count": 24,
   "metadata": {},
   "outputs": [
    {
     "data": {
      "text/html": [
       "<div>\n",
       "<style scoped>\n",
       "    .dataframe tbody tr th:only-of-type {\n",
       "        vertical-align: middle;\n",
       "    }\n",
       "\n",
       "    .dataframe tbody tr th {\n",
       "        vertical-align: top;\n",
       "    }\n",
       "\n",
       "    .dataframe thead th {\n",
       "        text-align: right;\n",
       "    }\n",
       "</style>\n",
       "<table border=\"1\" class=\"dataframe\">\n",
       "  <thead>\n",
       "    <tr style=\"text-align: right;\">\n",
       "      <th></th>\n",
       "      <th>Fecha del abono</th>\n",
       "      <th>Abono</th>\n",
       "      <th>Balance</th>\n",
       "    </tr>\n",
       "    <tr>\n",
       "      <th>Periodo</th>\n",
       "      <th></th>\n",
       "      <th></th>\n",
       "      <th></th>\n",
       "    </tr>\n",
       "  </thead>\n",
       "  <tbody>\n",
       "    <tr>\n",
       "      <th>1</th>\n",
       "      <td>2022-11-30</td>\n",
       "      <td>788.392708</td>\n",
       "      <td>69383.392708</td>\n",
       "    </tr>\n",
       "    <tr>\n",
       "      <th>2</th>\n",
       "      <td>2022-12-31</td>\n",
       "      <td>788.392708</td>\n",
       "      <td>70778.890102</td>\n",
       "    </tr>\n",
       "    <tr>\n",
       "      <th>3</th>\n",
       "      <td>2023-01-31</td>\n",
       "      <td>788.392708</td>\n",
       "      <td>72186.598098</td>\n",
       "    </tr>\n",
       "    <tr>\n",
       "      <th>4</th>\n",
       "      <td>2023-02-28</td>\n",
       "      <td>788.392708</td>\n",
       "      <td>73606.623539</td>\n",
       "    </tr>\n",
       "    <tr>\n",
       "      <th>5</th>\n",
       "      <td>2023-03-31</td>\n",
       "      <td>788.392708</td>\n",
       "      <td>75039.074203</td>\n",
       "    </tr>\n",
       "  </tbody>\n",
       "</table>\n",
       "</div>"
      ],
      "text/plain": [
       "        Fecha del abono       Abono       Balance\n",
       "Periodo                                          \n",
       "1            2022-11-30  788.392708  69383.392708\n",
       "2            2022-12-31  788.392708  70778.890102\n",
       "3            2023-01-31  788.392708  72186.598098\n",
       "4            2023-02-28  788.392708  73606.623539\n",
       "5            2023-03-31  788.392708  75039.074203"
      ]
     },
     "execution_count": 24,
     "metadata": {},
     "output_type": "execute_result"
    }
   ],
   "source": [
    "# Los abonos son iguales\n",
    "df['Abono'] = Abono\n",
    "# Vector indizador de los periodos de los abonos\n",
    "index_vector = np.arange(1,len(rng)+1)\n",
    "# Extracto de la cuenta mes a mes\n",
    "df[\"Balance\"] = inicial * (1 + tasa_interes/Abono_year)**index_vector + \\\n",
    "                Abono * (((1 + tasa_interes/Abono_year)**index_vector - 1)/(tasa_interes/Abono_year))\n",
    "\n",
    "df.head()"
   ]
  },
  {
   "cell_type": "code",
   "execution_count": 25,
   "metadata": {},
   "outputs": [
    {
     "data": {
      "text/html": [
       "<div>\n",
       "<style scoped>\n",
       "    .dataframe tbody tr th:only-of-type {\n",
       "        vertical-align: middle;\n",
       "    }\n",
       "\n",
       "    .dataframe tbody tr th {\n",
       "        vertical-align: top;\n",
       "    }\n",
       "\n",
       "    .dataframe thead th {\n",
       "        text-align: right;\n",
       "    }\n",
       "</style>\n",
       "<table border=\"1\" class=\"dataframe\">\n",
       "  <thead>\n",
       "    <tr style=\"text-align: right;\">\n",
       "      <th></th>\n",
       "      <th>Fecha del abono</th>\n",
       "      <th>Abono</th>\n",
       "      <th>Balance</th>\n",
       "    </tr>\n",
       "    <tr>\n",
       "      <th>Periodo</th>\n",
       "      <th></th>\n",
       "      <th></th>\n",
       "      <th></th>\n",
       "    </tr>\n",
       "  </thead>\n",
       "  <tbody>\n",
       "    <tr>\n",
       "      <th>1</th>\n",
       "      <td>2022-11-30</td>\n",
       "      <td>788.39</td>\n",
       "      <td>69383.39</td>\n",
       "    </tr>\n",
       "    <tr>\n",
       "      <th>2</th>\n",
       "      <td>2022-12-31</td>\n",
       "      <td>788.39</td>\n",
       "      <td>70778.89</td>\n",
       "    </tr>\n",
       "    <tr>\n",
       "      <th>3</th>\n",
       "      <td>2023-01-31</td>\n",
       "      <td>788.39</td>\n",
       "      <td>72186.60</td>\n",
       "    </tr>\n",
       "    <tr>\n",
       "      <th>4</th>\n",
       "      <td>2023-02-28</td>\n",
       "      <td>788.39</td>\n",
       "      <td>73606.62</td>\n",
       "    </tr>\n",
       "    <tr>\n",
       "      <th>5</th>\n",
       "      <td>2023-03-31</td>\n",
       "      <td>788.39</td>\n",
       "      <td>75039.07</td>\n",
       "    </tr>\n",
       "    <tr>\n",
       "      <th>6</th>\n",
       "      <td>2023-04-30</td>\n",
       "      <td>788.39</td>\n",
       "      <td>76484.06</td>\n",
       "    </tr>\n",
       "    <tr>\n",
       "      <th>7</th>\n",
       "      <td>2023-05-31</td>\n",
       "      <td>788.39</td>\n",
       "      <td>77941.69</td>\n",
       "    </tr>\n",
       "    <tr>\n",
       "      <th>8</th>\n",
       "      <td>2023-06-30</td>\n",
       "      <td>788.39</td>\n",
       "      <td>79412.07</td>\n",
       "    </tr>\n",
       "    <tr>\n",
       "      <th>9</th>\n",
       "      <td>2023-07-31</td>\n",
       "      <td>788.39</td>\n",
       "      <td>80895.32</td>\n",
       "    </tr>\n",
       "    <tr>\n",
       "      <th>10</th>\n",
       "      <td>2023-08-31</td>\n",
       "      <td>788.39</td>\n",
       "      <td>82391.54</td>\n",
       "    </tr>\n",
       "    <tr>\n",
       "      <th>11</th>\n",
       "      <td>2023-09-30</td>\n",
       "      <td>788.39</td>\n",
       "      <td>83900.86</td>\n",
       "    </tr>\n",
       "    <tr>\n",
       "      <th>12</th>\n",
       "      <td>2023-10-31</td>\n",
       "      <td>788.39</td>\n",
       "      <td>85423.39</td>\n",
       "    </tr>\n",
       "    <tr>\n",
       "      <th>13</th>\n",
       "      <td>2023-11-30</td>\n",
       "      <td>788.39</td>\n",
       "      <td>86959.24</td>\n",
       "    </tr>\n",
       "    <tr>\n",
       "      <th>14</th>\n",
       "      <td>2023-12-31</td>\n",
       "      <td>788.39</td>\n",
       "      <td>88508.52</td>\n",
       "    </tr>\n",
       "    <tr>\n",
       "      <th>15</th>\n",
       "      <td>2024-01-31</td>\n",
       "      <td>788.39</td>\n",
       "      <td>90071.36</td>\n",
       "    </tr>\n",
       "    <tr>\n",
       "      <th>16</th>\n",
       "      <td>2024-02-29</td>\n",
       "      <td>788.39</td>\n",
       "      <td>91647.88</td>\n",
       "    </tr>\n",
       "    <tr>\n",
       "      <th>17</th>\n",
       "      <td>2024-03-31</td>\n",
       "      <td>788.39</td>\n",
       "      <td>93238.19</td>\n",
       "    </tr>\n",
       "    <tr>\n",
       "      <th>18</th>\n",
       "      <td>2024-04-30</td>\n",
       "      <td>788.39</td>\n",
       "      <td>94842.42</td>\n",
       "    </tr>\n",
       "    <tr>\n",
       "      <th>19</th>\n",
       "      <td>2024-05-31</td>\n",
       "      <td>788.39</td>\n",
       "      <td>96460.68</td>\n",
       "    </tr>\n",
       "    <tr>\n",
       "      <th>20</th>\n",
       "      <td>2024-06-30</td>\n",
       "      <td>788.39</td>\n",
       "      <td>98093.11</td>\n",
       "    </tr>\n",
       "    <tr>\n",
       "      <th>21</th>\n",
       "      <td>2024-07-31</td>\n",
       "      <td>788.39</td>\n",
       "      <td>99739.81</td>\n",
       "    </tr>\n",
       "    <tr>\n",
       "      <th>22</th>\n",
       "      <td>2024-08-31</td>\n",
       "      <td>788.39</td>\n",
       "      <td>101400.93</td>\n",
       "    </tr>\n",
       "    <tr>\n",
       "      <th>23</th>\n",
       "      <td>2024-09-30</td>\n",
       "      <td>788.39</td>\n",
       "      <td>103076.58</td>\n",
       "    </tr>\n",
       "    <tr>\n",
       "      <th>24</th>\n",
       "      <td>2024-10-31</td>\n",
       "      <td>788.39</td>\n",
       "      <td>104766.89</td>\n",
       "    </tr>\n",
       "  </tbody>\n",
       "</table>\n",
       "</div>"
      ],
      "text/plain": [
       "        Fecha del abono   Abono    Balance\n",
       "Periodo                                   \n",
       "1            2022-11-30  788.39   69383.39\n",
       "2            2022-12-31  788.39   70778.89\n",
       "3            2023-01-31  788.39   72186.60\n",
       "4            2023-02-28  788.39   73606.62\n",
       "5            2023-03-31  788.39   75039.07\n",
       "6            2023-04-30  788.39   76484.06\n",
       "7            2023-05-31  788.39   77941.69\n",
       "8            2023-06-30  788.39   79412.07\n",
       "9            2023-07-31  788.39   80895.32\n",
       "10           2023-08-31  788.39   82391.54\n",
       "11           2023-09-30  788.39   83900.86\n",
       "12           2023-10-31  788.39   85423.39\n",
       "13           2023-11-30  788.39   86959.24\n",
       "14           2023-12-31  788.39   88508.52\n",
       "15           2024-01-31  788.39   90071.36\n",
       "16           2024-02-29  788.39   91647.88\n",
       "17           2024-03-31  788.39   93238.19\n",
       "18           2024-04-30  788.39   94842.42\n",
       "19           2024-05-31  788.39   96460.68\n",
       "20           2024-06-30  788.39   98093.11\n",
       "21           2024-07-31  788.39   99739.81\n",
       "22           2024-08-31  788.39  101400.93\n",
       "23           2024-09-30  788.39  103076.58\n",
       "24           2024-10-31  788.39  104766.89"
      ]
     },
     "execution_count": 25,
     "metadata": {},
     "output_type": "execute_result"
    }
   ],
   "source": [
    "# Redondear con dos cifras decimales y mostrar DataFrame\n",
    "df = df.round(2)\n",
    "df"
   ]
  },
  {
   "cell_type": "markdown",
   "metadata": {},
   "source": [
    "### Respuesta planteada en el ejercicio usando (markdown)\n",
    " La respuesta es .........$68,000 \n",
    " \n",
    " y abonando a cada mes $788\n",
    " \n",
    " Banco Compartamos, tasa de interes=10.5%"
   ]
  },
  {
   "cell_type": "markdown",
   "metadata": {},
   "source": [
    "Código de solución estudiante 2"
   ]
  },
  {
   "cell_type": "code",
   "execution_count": 27,
   "metadata": {},
   "outputs": [],
   "source": [
    "# Código de solución estudiante 2\n",
    "# Librería de análisis de datos\n",
    "import pandas as pd\n",
    "# Librería para manipulación de fechas\n",
    "from datetime import date\n",
    "import numpy as np\n",
    "import numpy_financial as npf"
   ]
  },
  {
   "cell_type": "code",
   "execution_count": 28,
   "metadata": {},
   "outputs": [],
   "source": [
    "# Datos para la cuenta de ahorro\n",
    "tasa_interes = 0.105\n",
    "years = 2\n",
    "Abono_year = 1\n",
    "inicial = 70000\n",
    "meta = 85000\n",
    "fecha_inicio = (date(2022,11,14))"
   ]
  },
  {
   "cell_type": "code",
   "execution_count": 34,
   "metadata": {},
   "outputs": [
    {
     "data": {
      "text/plain": [
       "8700.89073634204"
      ]
     },
     "execution_count": 34,
     "metadata": {},
     "output_type": "execute_result"
    }
   ],
   "source": [
    "# Cálculo de abonos mensuales iguales para llegar a la meta de ahorro en el tiempo deseado\n",
    "Abono = -npf.pmt(tasa_interes/Abono_year,years*Abono_year,(meta-inicial))\n",
    "Abono"
   ]
  },
  {
   "cell_type": "code",
   "execution_count": 33,
   "metadata": {},
   "outputs": [
    {
     "data": {
      "text/html": [
       "<div>\n",
       "<style scoped>\n",
       "    .dataframe tbody tr th:only-of-type {\n",
       "        vertical-align: middle;\n",
       "    }\n",
       "\n",
       "    .dataframe tbody tr th {\n",
       "        vertical-align: top;\n",
       "    }\n",
       "\n",
       "    .dataframe thead th {\n",
       "        text-align: right;\n",
       "    }\n",
       "</style>\n",
       "<table border=\"1\" class=\"dataframe\">\n",
       "  <thead>\n",
       "    <tr style=\"text-align: right;\">\n",
       "      <th></th>\n",
       "      <th>Fecha del abono</th>\n",
       "      <th>Abono</th>\n",
       "      <th>Balance</th>\n",
       "    </tr>\n",
       "    <tr>\n",
       "      <th>Periodo</th>\n",
       "      <th></th>\n",
       "      <th></th>\n",
       "      <th></th>\n",
       "    </tr>\n",
       "  </thead>\n",
       "  <tbody>\n",
       "    <tr>\n",
       "      <th>1</th>\n",
       "      <td>2022-11-30</td>\n",
       "      <td>NaN</td>\n",
       "      <td>NaN</td>\n",
       "    </tr>\n",
       "    <tr>\n",
       "      <th>2</th>\n",
       "      <td>2022-12-31</td>\n",
       "      <td>NaN</td>\n",
       "      <td>NaN</td>\n",
       "    </tr>\n",
       "  </tbody>\n",
       "</table>\n",
       "</div>"
      ],
      "text/plain": [
       "        Fecha del abono  Abono  Balance\n",
       "Periodo                                \n",
       "1            2022-11-30    NaN      NaN\n",
       "2            2022-12-31    NaN      NaN"
      ]
     },
     "execution_count": 33,
     "metadata": {},
     "output_type": "execute_result"
    }
   ],
   "source": [
    "# Rango de fechas en la tabla\n",
    "rng = pd.date_range(fecha_inicio, periods=years*Abono_year, freq='M')\n",
    "rng.name = 'Fecha del abono'\n",
    "# Columnas de abonos y extracto de cuenta en las fechas respectivas\n",
    "df = pd.DataFrame(index = rng,columns=['Abono','Balance'],dtype='float')\n",
    "# Para poner el indice con los periodos y no con las fechas\n",
    "df.reset_index(inplace=True)\n",
    "\n",
    "df.index+=1\n",
    "df.index.name='Periodo'\n",
    "df.head()"
   ]
  },
  {
   "cell_type": "code",
   "execution_count": 5,
   "metadata": {},
   "outputs": [
    {
     "ename": "NameError",
     "evalue": "name 'npf' is not defined",
     "output_type": "error",
     "traceback": [
      "\u001b[1;31m---------------------------------------------------------------------------\u001b[0m",
      "\u001b[1;31mNameError\u001b[0m                                 Traceback (most recent call last)",
      "Input \u001b[1;32mIn [5]\u001b[0m, in \u001b[0;36m<cell line: 1>\u001b[1;34m()\u001b[0m\n\u001b[1;32m----> 1\u001b[0m \u001b[43mnpf\u001b[49m\u001b[38;5;241m.\u001b[39mppmt(tasa_interes\u001b[38;5;241m/\u001b[39mAbono_year, \u001b[38;5;241m1\u001b[39m, years \u001b[38;5;241m*\u001b[39m Abono_year, Abono)\n",
      "\u001b[1;31mNameError\u001b[0m: name 'npf' is not defined"
     ]
    }
   ],
   "source": [
    "npf.ppmt(tasa_interes/Abono_year, 1, years * Abono_year, Abono)"
   ]
  },
  {
   "cell_type": "code",
   "execution_count": 35,
   "metadata": {},
   "outputs": [
    {
     "data": {
      "text/html": [
       "<div>\n",
       "<style scoped>\n",
       "    .dataframe tbody tr th:only-of-type {\n",
       "        vertical-align: middle;\n",
       "    }\n",
       "\n",
       "    .dataframe tbody tr th {\n",
       "        vertical-align: top;\n",
       "    }\n",
       "\n",
       "    .dataframe thead th {\n",
       "        text-align: right;\n",
       "    }\n",
       "</style>\n",
       "<table border=\"1\" class=\"dataframe\">\n",
       "  <thead>\n",
       "    <tr style=\"text-align: right;\">\n",
       "      <th></th>\n",
       "      <th>Fecha del abono</th>\n",
       "      <th>Abono</th>\n",
       "      <th>Balance</th>\n",
       "    </tr>\n",
       "    <tr>\n",
       "      <th>Periodo</th>\n",
       "      <th></th>\n",
       "      <th></th>\n",
       "      <th></th>\n",
       "    </tr>\n",
       "  </thead>\n",
       "  <tbody>\n",
       "    <tr>\n",
       "      <th>1</th>\n",
       "      <td>2022-11-30</td>\n",
       "      <td>8700.890736</td>\n",
       "      <td>86050.890736</td>\n",
       "    </tr>\n",
       "    <tr>\n",
       "      <th>2</th>\n",
       "      <td>2022-12-31</td>\n",
       "      <td>8700.890736</td>\n",
       "      <td>103787.125000</td>\n",
       "    </tr>\n",
       "  </tbody>\n",
       "</table>\n",
       "</div>"
      ],
      "text/plain": [
       "        Fecha del abono        Abono        Balance\n",
       "Periodo                                            \n",
       "1            2022-11-30  8700.890736   86050.890736\n",
       "2            2022-12-31  8700.890736  103787.125000"
      ]
     },
     "execution_count": 35,
     "metadata": {},
     "output_type": "execute_result"
    }
   ],
   "source": [
    "# Los abonos son iguales\n",
    "df['Abono'] = Abono\n",
    "# Vector indizador de los periodos de los abonos\n",
    "index_vector = np.arange(1,len(rng)+1)\n",
    "# Extracto de la cuenta mes a mes\n",
    "df[\"Balance\"] = inicial * (1 + tasa_interes/Abono_year)**index_vector + \\\n",
    "                Abono * (((1 + tasa_interes/Abono_year)**index_vector - 1)/(tasa_interes/Abono_year))\n",
    "\n",
    "df.head()"
   ]
  },
  {
   "cell_type": "code",
   "execution_count": 36,
   "metadata": {},
   "outputs": [
    {
     "data": {
      "text/html": [
       "<div>\n",
       "<style scoped>\n",
       "    .dataframe tbody tr th:only-of-type {\n",
       "        vertical-align: middle;\n",
       "    }\n",
       "\n",
       "    .dataframe tbody tr th {\n",
       "        vertical-align: top;\n",
       "    }\n",
       "\n",
       "    .dataframe thead th {\n",
       "        text-align: right;\n",
       "    }\n",
       "</style>\n",
       "<table border=\"1\" class=\"dataframe\">\n",
       "  <thead>\n",
       "    <tr style=\"text-align: right;\">\n",
       "      <th></th>\n",
       "      <th>Fecha del abono</th>\n",
       "      <th>Abono</th>\n",
       "      <th>Balance</th>\n",
       "    </tr>\n",
       "    <tr>\n",
       "      <th>Periodo</th>\n",
       "      <th></th>\n",
       "      <th></th>\n",
       "      <th></th>\n",
       "    </tr>\n",
       "  </thead>\n",
       "  <tbody>\n",
       "    <tr>\n",
       "      <th>1</th>\n",
       "      <td>2022-11-30</td>\n",
       "      <td>8700.89</td>\n",
       "      <td>86050.89</td>\n",
       "    </tr>\n",
       "    <tr>\n",
       "      <th>2</th>\n",
       "      <td>2022-12-31</td>\n",
       "      <td>8700.89</td>\n",
       "      <td>103787.12</td>\n",
       "    </tr>\n",
       "  </tbody>\n",
       "</table>\n",
       "</div>"
      ],
      "text/plain": [
       "        Fecha del abono    Abono    Balance\n",
       "Periodo                                    \n",
       "1            2022-11-30  8700.89   86050.89\n",
       "2            2022-12-31  8700.89  103787.12"
      ]
     },
     "execution_count": 36,
     "metadata": {},
     "output_type": "execute_result"
    }
   ],
   "source": [
    "# Redondear con dos cifras decimales y mostrar DataFrame\n",
    "df = df.round(2)\n",
    "df"
   ]
  },
  {
   "cell_type": "markdown",
   "metadata": {},
   "source": [
    "### Respuesta planteada en el ejercicio usando (markdown)\n",
    " La respuesta es .........$70,000\n",
    " \n",
    " Banco Compartamos, tasa de interes=10.5%"
   ]
  }
 ],
 "metadata": {
  "kernelspec": {
   "display_name": "Python 3 (ipykernel)",
   "language": "python",
   "name": "python3"
  },
  "language_info": {
   "codemirror_mode": {
    "name": "ipython",
    "version": 3
   },
   "file_extension": ".py",
   "mimetype": "text/x-python",
   "name": "python",
   "nbconvert_exporter": "python",
   "pygments_lexer": "ipython3",
   "version": "3.9.12"
  }
 },
 "nbformat": 4,
 "nbformat_minor": 2
}
